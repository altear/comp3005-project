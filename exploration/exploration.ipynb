{
 "cells": [
  {
   "cell_type": "code",
   "execution_count": 6,
   "metadata": {},
   "outputs": [
    {
     "name": "stdout",
     "output_type": "stream",
     "text": [
      "arg: hello\n",
      "arg2: bye\n",
      "arg3: and hi again\n"
     ]
    }
   ],
   "source": [
    "def my_decorator(foo):\n",
    "    def wrapper(some_arg, *args, **kwargs):\n",
    "        print(f\"arg: {some_arg}\")\n",
    "        foo(some_arg, *args, **kwargs)\n",
    "        \n",
    "    return wrapper\n",
    "\n",
    "@my_decorator\n",
    "def test_foo(arg1, arg2, arg3):\n",
    "    print(f\"arg2: {arg2}\")\n",
    "    print(f\"arg3: {arg3}\")\n",
    "\n",
    "test_foo(\"hello\", \"bye\", arg3=\"and hi again\")"
   ]
  },
  {
   "cell_type": "code",
   "execution_count": 8,
   "metadata": {},
   "outputs": [
    {
     "data": {
      "text/plain": [
       "202500"
      ]
     },
     "execution_count": 8,
     "metadata": {},
     "output_type": "execute_result"
    }
   ],
   "source": [
    "750 * 270"
   ]
  }
 ],
 "metadata": {
  "kernelspec": {
   "display_name": "py37",
   "language": "python",
   "name": "py37"
  },
  "language_info": {
   "codemirror_mode": {
    "name": "ipython",
    "version": 3
   },
   "file_extension": ".py",
   "mimetype": "text/x-python",
   "name": "python",
   "nbconvert_exporter": "python",
   "pygments_lexer": "ipython3",
   "version": "3.7.5"
  }
 },
 "nbformat": 4,
 "nbformat_minor": 2
}
